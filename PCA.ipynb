{
 "cells": [
  {
   "cell_type": "code",
   "execution_count": 1,
   "metadata": {},
   "outputs": [],
   "source": [
    "import pandas as pd\n",
    "import numpy as np\n",
    "from sklearn.model_selection import cross_val_score\n",
    "from sklearn.preprocessing import StandardScaler, LabelEncoder\n",
    "from sklearn.svm import SVC\n",
    "from sklearn.decomposition import PCA\n",
    "from sklearn.model_selection import KFold"
   ]
  },
  {
   "cell_type": "code",
   "execution_count": 2,
   "metadata": {},
   "outputs": [],
   "source": [
    "def evaluate_svm_model(X, y, description):\n",
    "    svm_model = SVC(kernel='poly', random_state=42)\n",
    "    kf = KFold(n_splits=10, shuffle=True, random_state=42)\n",
    "    cv_scores = cross_val_score(svm_model, X, y, cv=kf, scoring='accuracy')\n",
    "    print(f'{description} - Mean Accuracy: {np.mean(cv_scores):.4f}, Std Dev: {np.std(cv_scores):.4f}')\n",
    "    print()\n",
    "\n",
    "def pca_model(X,y,des1,n=None):\n",
    "    scaler = StandardScaler()\n",
    "    X_scaled = scaler.fit_transform(X)\n",
    "    p1 = PCA(n_components=n)\n",
    "    x_pca = p1.fit_transform(X_scaled)\n",
    "    evaluate_svm_model(x_pca,y,des1)"
   ]
  },
  {
   "cell_type": "code",
   "execution_count": 3,
   "metadata": {},
   "outputs": [
    {
     "name": "stdout",
     "output_type": "stream",
     "text": [
      "For abalone dataset\n",
      "\n",
      "Original Data - Mean Accuracy: 0.2502, Std Dev: 0.0240\n",
      "\n",
      "PCA Transformed Data (All Components) - Mean Accuracy: 0.2451, Std Dev: 0.0182\n",
      "\n",
      "PCA Transformed Data (4 Components) - Mean Accuracy: 0.2418, Std Dev: 0.0197\n",
      "\n"
     ]
    }
   ],
   "source": [
    "print(\"For abalone dataset\\n\")\n",
    "abalone_data = pd.read_csv('abalone1.csv')\n",
    "\n",
    "le = LabelEncoder()\n",
    "abalone_data['Sex'] = le.fit_transform(abalone_data['Sex'])\n",
    "\n",
    "X1 = abalone_data.drop('Rings', axis=1)\n",
    "y1 = abalone_data['Rings']\n",
    "\n",
    "evaluate_svm_model(X1, y1, \"Original Data\")\n",
    "pca_model(X1, y1, \"PCA Transformed Data (All Components)\")\n",
    "pca_model(X1, y1, \"PCA Transformed Data (4 Components)\",4)"
   ]
  },
  {
   "cell_type": "code",
   "execution_count": 4,
   "metadata": {},
   "outputs": [
    {
     "name": "stdout",
     "output_type": "stream",
     "text": [
      "For Breast Cancer dataset\n",
      "\n",
      "Original Data - Mean Accuracy: 0.9068, Std Dev: 0.0505\n",
      "\n",
      "PCA Transformed All Components - Mean Accuracy: 0.9068, Std Dev: 0.0263\n",
      "\n",
      "PCA Transformed 20 Components - Mean Accuracy: 0.9068, Std Dev: 0.0263\n",
      "\n",
      "PCA Transformed 10 Components - Mean Accuracy: 0.9086, Std Dev: 0.0249\n",
      "\n"
     ]
    }
   ],
   "source": [
    "print(\"For Breast Cancer dataset\\n\")\n",
    "from sklearn.datasets import load_breast_cancer\n",
    "cancer_data = load_breast_cancer()\n",
    "\n",
    "X2 = pd.DataFrame(cancer_data.data, columns=cancer_data.feature_names)\n",
    "y2 = pd.Series(cancer_data.target)\n",
    "\n",
    "evaluate_svm_model(X2, y2, \"Original Data\")\n",
    "pca_model(X2, y2, \"PCA Transformed All Components\")\n",
    "pca_model(X2, y2, \"PCA Transformed 20 Components\",20)\n",
    "pca_model(X2, y2, \"PCA Transformed 10 Components\",10)"
   ]
  }
 ],
 "metadata": {
  "kernelspec": {
   "display_name": "base",
   "language": "python",
   "name": "python3"
  },
  "language_info": {
   "codemirror_mode": {
    "name": "ipython",
    "version": 3
   },
   "file_extension": ".py",
   "mimetype": "text/x-python",
   "name": "python",
   "nbconvert_exporter": "python",
   "pygments_lexer": "ipython3",
   "version": "3.11.7"
  }
 },
 "nbformat": 4,
 "nbformat_minor": 2
}
